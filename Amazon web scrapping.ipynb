{
 "cells": [
  {
   "cell_type": "code",
   "execution_count": 35,
   "id": "39ac73f0-7613-4d8c-811b-a0cca50f989e",
   "metadata": {},
   "outputs": [],
   "source": [
    "from bs4 import BeautifulSoup\n",
    "import requests\n",
    "import datetime\n",
    "import time \n",
    "import smtplib"
   ]
  },
  {
   "cell_type": "code",
   "execution_count": 37,
   "id": "1d6d3056-c763-4606-9388-0b26b72ce45a",
   "metadata": {},
   "outputs": [
    {
     "name": "stdout",
     "output_type": "stream",
     "text": [
      "\n",
      "                    ABLING Trust A Data Scientist Tee � Men's Smart Casual Lounge Round Neck Black T-Shirt for Tech Enthusiasts, Super Combed Cotton 200gsm+ Fabric, Graphic Print Tshirts, Professional Humor\n",
      "                   \n",
      "\n",
      "                      499\n",
      "                     \n"
     ]
    }
   ],
   "source": [
    "URL= 'https://www.amazon.in/ABLING-Trust-Data-Scientist-Tee/dp/B0CWS1PSXM/ref=sr_1_5?dib=eyJ2IjoiMSJ9.rMfvIoZ_nAo7Udpgygp2xy1sSFsvlRtI6nZAdgIk4t0Lh4m3EhuXmzKx1bqv4hzJyxLugQXCcWcAP4SZ3QKqC9oIYNrx5ayYNeymdyaszyZB-5z83Ubsn9_PBNpeSIdSTQCXbcXUU2Me-pkDauxfxEydAsAVj79ADWQxaUcy9TuUiJYRaaUq5e-zTkOmRt6vdt-rhZfJePSRXYKs5WDlDjRgB6Fb5dLzsUlVkhgZjhp35KIjyegN2HQfYfsx4Tf1Evr7ZAlOknpDsFVduTV-0w6vPhMytI6ElrB3DtwJU57yDsXJ8th_Uvyefz4B0px8s-L0eUuGJgcdUCy6nWsFIQsPN3og33CwBZKTtdb07CbyUOBVxtfNAvrCC2BsbrIimxH2x5xxWIihEwsuGKLAhxn-1sx61HKDAHH_P2gxi-j_5C4sdSsyWnhnmE9icdxX.E-1kqePPumvjZYD8tPN2XhC42fVNLtZNWrzBGEdIa2s&dib_tag=se&keywords=data%2Bscience%2Btshirt&qid=1742755725&sr=8-5&th=1&psc=1'\n",
    "headers = {\n",
    "    \"User-Agent\": \"Mozilla/5.0 (Windows NT 10.0; Win64; x64) AppleWebKit/537.36 (KHTML, like Gecko) Chrome/114.0.0.0 Safari/537.36\"\n",
    "}\n",
    "page = requests.get(URL, headers=headers)\n",
    "soup1 = BeautifulSoup(page.content, \"html.parser\")\n",
    "soup2 = BeautifulSoup(soup1.prettify(), \"html.parser\")\n",
    "title= soup2.find(id=\"productTitle\").get_text()\n",
    "price = soup2.find(class_='a-price-whole').get_text()\n",
    "\n",
    "print(title)\n",
    "print(price)"
   ]
  },
  {
   "cell_type": "code",
   "execution_count": 57,
   "id": "7a910079-a869-42f0-a673-564fc1107956",
   "metadata": {},
   "outputs": [],
   "source": [
    "title = title.strip()\n",
    "price = price.strip()"
   ]
  },
  {
   "cell_type": "code",
   "execution_count": 69,
   "id": "c86a61bb-56ea-488b-8afe-5b6b8d84b74e",
   "metadata": {},
   "outputs": [],
   "source": [
    "Today=datetime.date.today()"
   ]
  },
  {
   "cell_type": "code",
   "execution_count": 81,
   "id": "67d1055d-0498-4937-b57f-cbac262305d6",
   "metadata": {},
   "outputs": [],
   "source": [
    "import csv\n",
    "header=['Title', 'Price', 'Date']\n",
    "data=[title,price,today]\n",
    "with open('AmazonWebScrapping.csv', 'w', newline='', encoding='UTF8') as file:\n",
    "  writer=csv.writer(file)\n",
    "  writer.writerow(header)\n",
    "  writer.writerow(data)\n"
   ]
  },
  {
   "cell_type": "code",
   "execution_count": 87,
   "id": "5fac5451-c7a9-4c81-a6f7-6082082da53f",
   "metadata": {},
   "outputs": [
    {
     "name": "stdout",
     "output_type": "stream",
     "text": [
      "                                               Title  Price        Date\n",
      "0  ABLING Trust A Data Scientist Tee � Men's Smar...    499  2025-03-24\n"
     ]
    }
   ],
   "source": [
    "import pandas as pd\n",
    "df= pd.read_csv(r'C:\\Users\\tanma\\AmazonWebScrapping.csv')\n",
    "print(df)"
   ]
  },
  {
   "cell_type": "code",
   "execution_count": null,
   "id": "d25f5301-fc4a-41cf-898e-6529bd8e2db8",
   "metadata": {},
   "outputs": [],
   "source": []
  }
 ],
 "metadata": {
  "kernelspec": {
   "display_name": "Python 3 (ipykernel)",
   "language": "python",
   "name": "python3"
  },
  "language_info": {
   "codemirror_mode": {
    "name": "ipython",
    "version": 3
   },
   "file_extension": ".py",
   "mimetype": "text/x-python",
   "name": "python",
   "nbconvert_exporter": "python",
   "pygments_lexer": "ipython3",
   "version": "3.12.7"
  }
 },
 "nbformat": 4,
 "nbformat_minor": 5
}
